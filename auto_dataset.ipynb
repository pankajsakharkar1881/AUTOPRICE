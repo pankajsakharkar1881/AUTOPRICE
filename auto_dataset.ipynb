{
 "cells": [
  {
   "cell_type": "code",
   "execution_count": 1,
   "id": "8c68c75e",
   "metadata": {},
   "outputs": [],
   "source": [
    "import pandas as pd\n",
    "import numpy as np\n",
    "\n",
    "import seaborn as sns\n",
    "import matplotlib.pyplot as plt\n",
    "\n",
    "from sklearn.preprocessing import OneHotEncoder,OrdinalEncoder,LabelEncoder\n",
    "\n",
    "from sklearn.model_selection import train_test_split,RandomizedSearchCV,GridSearchCV\n",
    "from sklearn.linear_model import LinearRegression,Ridge,Lasso\n",
    "\n",
    "from sklearn.metrics import mean_absolute_error,mean_squared_error,r2_score\n",
    "from statsmodels.stats.outliers_influence import variance_inflation_factor"
   ]
  },
  {
   "cell_type": "code",
   "execution_count": 2,
   "id": "c39a02b7",
   "metadata": {},
   "outputs": [],
   "source": [
    "import warnings\n",
    "warnings.filterwarnings(\"ignore\")\n",
    "from IPython.display import display\n",
    "pd.set_option(\"display.max_columns\",None)\n",
    "pd.set_option(\"display.max_rows\",None)"
   ]
  },
  {
   "cell_type": "markdown",
   "id": "fbba01c0",
   "metadata": {},
   "source": [
    "## 1) problem statement"
   ]
  },
  {
   "cell_type": "markdown",
   "id": "67b3525a",
   "metadata": {},
   "source": [
    "## 2) Data quality check"
   ]
  },
  {
   "cell_type": "markdown",
   "id": "2f016866",
   "metadata": {},
   "source": [
    "### data gathering and data analysis"
   ]
  },
  {
   "cell_type": "code",
   "execution_count": 3,
   "id": "4ac7c2c6",
   "metadata": {},
   "outputs": [
    {
     "ename": "FileNotFoundError",
     "evalue": "[Errno 2] No such file or directory: 'autos_dataset.csv'",
     "output_type": "error",
     "traceback": [
      "\u001b[1;31m---------------------------------------------------------------------------\u001b[0m",
      "\u001b[1;31mFileNotFoundError\u001b[0m                         Traceback (most recent call last)",
      "Input \u001b[1;32mIn [3]\u001b[0m, in \u001b[0;36m<cell line: 1>\u001b[1;34m()\u001b[0m\n\u001b[1;32m----> 1\u001b[0m df \u001b[38;5;241m=\u001b[39m \u001b[43mpd\u001b[49m\u001b[38;5;241;43m.\u001b[39;49m\u001b[43mread_csv\u001b[49m\u001b[43m(\u001b[49m\u001b[38;5;124;43m\"\u001b[39;49m\u001b[38;5;124;43mautos_dataset.csv\u001b[39;49m\u001b[38;5;124;43m\"\u001b[39;49m\u001b[43m)\u001b[49m\n\u001b[0;32m      2\u001b[0m df\u001b[38;5;241m.\u001b[39mhead()\n",
      "File \u001b[1;32m~\\anaconda3\\lib\\site-packages\\pandas\\util\\_decorators.py:311\u001b[0m, in \u001b[0;36mdeprecate_nonkeyword_arguments.<locals>.decorate.<locals>.wrapper\u001b[1;34m(*args, **kwargs)\u001b[0m\n\u001b[0;32m    305\u001b[0m \u001b[38;5;28;01mif\u001b[39;00m \u001b[38;5;28mlen\u001b[39m(args) \u001b[38;5;241m>\u001b[39m num_allow_args:\n\u001b[0;32m    306\u001b[0m     warnings\u001b[38;5;241m.\u001b[39mwarn(\n\u001b[0;32m    307\u001b[0m         msg\u001b[38;5;241m.\u001b[39mformat(arguments\u001b[38;5;241m=\u001b[39marguments),\n\u001b[0;32m    308\u001b[0m         \u001b[38;5;167;01mFutureWarning\u001b[39;00m,\n\u001b[0;32m    309\u001b[0m         stacklevel\u001b[38;5;241m=\u001b[39mstacklevel,\n\u001b[0;32m    310\u001b[0m     )\n\u001b[1;32m--> 311\u001b[0m \u001b[38;5;28;01mreturn\u001b[39;00m func(\u001b[38;5;241m*\u001b[39margs, \u001b[38;5;241m*\u001b[39m\u001b[38;5;241m*\u001b[39mkwargs)\n",
      "File \u001b[1;32m~\\anaconda3\\lib\\site-packages\\pandas\\io\\parsers\\readers.py:680\u001b[0m, in \u001b[0;36mread_csv\u001b[1;34m(filepath_or_buffer, sep, delimiter, header, names, index_col, usecols, squeeze, prefix, mangle_dupe_cols, dtype, engine, converters, true_values, false_values, skipinitialspace, skiprows, skipfooter, nrows, na_values, keep_default_na, na_filter, verbose, skip_blank_lines, parse_dates, infer_datetime_format, keep_date_col, date_parser, dayfirst, cache_dates, iterator, chunksize, compression, thousands, decimal, lineterminator, quotechar, quoting, doublequote, escapechar, comment, encoding, encoding_errors, dialect, error_bad_lines, warn_bad_lines, on_bad_lines, delim_whitespace, low_memory, memory_map, float_precision, storage_options)\u001b[0m\n\u001b[0;32m    665\u001b[0m kwds_defaults \u001b[38;5;241m=\u001b[39m _refine_defaults_read(\n\u001b[0;32m    666\u001b[0m     dialect,\n\u001b[0;32m    667\u001b[0m     delimiter,\n\u001b[1;32m   (...)\u001b[0m\n\u001b[0;32m    676\u001b[0m     defaults\u001b[38;5;241m=\u001b[39m{\u001b[38;5;124m\"\u001b[39m\u001b[38;5;124mdelimiter\u001b[39m\u001b[38;5;124m\"\u001b[39m: \u001b[38;5;124m\"\u001b[39m\u001b[38;5;124m,\u001b[39m\u001b[38;5;124m\"\u001b[39m},\n\u001b[0;32m    677\u001b[0m )\n\u001b[0;32m    678\u001b[0m kwds\u001b[38;5;241m.\u001b[39mupdate(kwds_defaults)\n\u001b[1;32m--> 680\u001b[0m \u001b[38;5;28;01mreturn\u001b[39;00m \u001b[43m_read\u001b[49m\u001b[43m(\u001b[49m\u001b[43mfilepath_or_buffer\u001b[49m\u001b[43m,\u001b[49m\u001b[43m \u001b[49m\u001b[43mkwds\u001b[49m\u001b[43m)\u001b[49m\n",
      "File \u001b[1;32m~\\anaconda3\\lib\\site-packages\\pandas\\io\\parsers\\readers.py:575\u001b[0m, in \u001b[0;36m_read\u001b[1;34m(filepath_or_buffer, kwds)\u001b[0m\n\u001b[0;32m    572\u001b[0m _validate_names(kwds\u001b[38;5;241m.\u001b[39mget(\u001b[38;5;124m\"\u001b[39m\u001b[38;5;124mnames\u001b[39m\u001b[38;5;124m\"\u001b[39m, \u001b[38;5;28;01mNone\u001b[39;00m))\n\u001b[0;32m    574\u001b[0m \u001b[38;5;66;03m# Create the parser.\u001b[39;00m\n\u001b[1;32m--> 575\u001b[0m parser \u001b[38;5;241m=\u001b[39m TextFileReader(filepath_or_buffer, \u001b[38;5;241m*\u001b[39m\u001b[38;5;241m*\u001b[39mkwds)\n\u001b[0;32m    577\u001b[0m \u001b[38;5;28;01mif\u001b[39;00m chunksize \u001b[38;5;129;01mor\u001b[39;00m iterator:\n\u001b[0;32m    578\u001b[0m     \u001b[38;5;28;01mreturn\u001b[39;00m parser\n",
      "File \u001b[1;32m~\\anaconda3\\lib\\site-packages\\pandas\\io\\parsers\\readers.py:933\u001b[0m, in \u001b[0;36mTextFileReader.__init__\u001b[1;34m(self, f, engine, **kwds)\u001b[0m\n\u001b[0;32m    930\u001b[0m     \u001b[38;5;28mself\u001b[39m\u001b[38;5;241m.\u001b[39moptions[\u001b[38;5;124m\"\u001b[39m\u001b[38;5;124mhas_index_names\u001b[39m\u001b[38;5;124m\"\u001b[39m] \u001b[38;5;241m=\u001b[39m kwds[\u001b[38;5;124m\"\u001b[39m\u001b[38;5;124mhas_index_names\u001b[39m\u001b[38;5;124m\"\u001b[39m]\n\u001b[0;32m    932\u001b[0m \u001b[38;5;28mself\u001b[39m\u001b[38;5;241m.\u001b[39mhandles: IOHandles \u001b[38;5;241m|\u001b[39m \u001b[38;5;28;01mNone\u001b[39;00m \u001b[38;5;241m=\u001b[39m \u001b[38;5;28;01mNone\u001b[39;00m\n\u001b[1;32m--> 933\u001b[0m \u001b[38;5;28mself\u001b[39m\u001b[38;5;241m.\u001b[39m_engine \u001b[38;5;241m=\u001b[39m \u001b[38;5;28;43mself\u001b[39;49m\u001b[38;5;241;43m.\u001b[39;49m\u001b[43m_make_engine\u001b[49m\u001b[43m(\u001b[49m\u001b[43mf\u001b[49m\u001b[43m,\u001b[49m\u001b[43m \u001b[49m\u001b[38;5;28;43mself\u001b[39;49m\u001b[38;5;241;43m.\u001b[39;49m\u001b[43mengine\u001b[49m\u001b[43m)\u001b[49m\n",
      "File \u001b[1;32m~\\anaconda3\\lib\\site-packages\\pandas\\io\\parsers\\readers.py:1217\u001b[0m, in \u001b[0;36mTextFileReader._make_engine\u001b[1;34m(self, f, engine)\u001b[0m\n\u001b[0;32m   1213\u001b[0m     mode \u001b[38;5;241m=\u001b[39m \u001b[38;5;124m\"\u001b[39m\u001b[38;5;124mrb\u001b[39m\u001b[38;5;124m\"\u001b[39m\n\u001b[0;32m   1214\u001b[0m \u001b[38;5;66;03m# error: No overload variant of \"get_handle\" matches argument types\u001b[39;00m\n\u001b[0;32m   1215\u001b[0m \u001b[38;5;66;03m# \"Union[str, PathLike[str], ReadCsvBuffer[bytes], ReadCsvBuffer[str]]\"\u001b[39;00m\n\u001b[0;32m   1216\u001b[0m \u001b[38;5;66;03m# , \"str\", \"bool\", \"Any\", \"Any\", \"Any\", \"Any\", \"Any\"\u001b[39;00m\n\u001b[1;32m-> 1217\u001b[0m \u001b[38;5;28mself\u001b[39m\u001b[38;5;241m.\u001b[39mhandles \u001b[38;5;241m=\u001b[39m \u001b[43mget_handle\u001b[49m\u001b[43m(\u001b[49m\u001b[43m  \u001b[49m\u001b[38;5;66;43;03m# type: ignore[call-overload]\u001b[39;49;00m\n\u001b[0;32m   1218\u001b[0m \u001b[43m    \u001b[49m\u001b[43mf\u001b[49m\u001b[43m,\u001b[49m\n\u001b[0;32m   1219\u001b[0m \u001b[43m    \u001b[49m\u001b[43mmode\u001b[49m\u001b[43m,\u001b[49m\n\u001b[0;32m   1220\u001b[0m \u001b[43m    \u001b[49m\u001b[43mencoding\u001b[49m\u001b[38;5;241;43m=\u001b[39;49m\u001b[38;5;28;43mself\u001b[39;49m\u001b[38;5;241;43m.\u001b[39;49m\u001b[43moptions\u001b[49m\u001b[38;5;241;43m.\u001b[39;49m\u001b[43mget\u001b[49m\u001b[43m(\u001b[49m\u001b[38;5;124;43m\"\u001b[39;49m\u001b[38;5;124;43mencoding\u001b[39;49m\u001b[38;5;124;43m\"\u001b[39;49m\u001b[43m,\u001b[49m\u001b[43m \u001b[49m\u001b[38;5;28;43;01mNone\u001b[39;49;00m\u001b[43m)\u001b[49m\u001b[43m,\u001b[49m\n\u001b[0;32m   1221\u001b[0m \u001b[43m    \u001b[49m\u001b[43mcompression\u001b[49m\u001b[38;5;241;43m=\u001b[39;49m\u001b[38;5;28;43mself\u001b[39;49m\u001b[38;5;241;43m.\u001b[39;49m\u001b[43moptions\u001b[49m\u001b[38;5;241;43m.\u001b[39;49m\u001b[43mget\u001b[49m\u001b[43m(\u001b[49m\u001b[38;5;124;43m\"\u001b[39;49m\u001b[38;5;124;43mcompression\u001b[39;49m\u001b[38;5;124;43m\"\u001b[39;49m\u001b[43m,\u001b[49m\u001b[43m \u001b[49m\u001b[38;5;28;43;01mNone\u001b[39;49;00m\u001b[43m)\u001b[49m\u001b[43m,\u001b[49m\n\u001b[0;32m   1222\u001b[0m \u001b[43m    \u001b[49m\u001b[43mmemory_map\u001b[49m\u001b[38;5;241;43m=\u001b[39;49m\u001b[38;5;28;43mself\u001b[39;49m\u001b[38;5;241;43m.\u001b[39;49m\u001b[43moptions\u001b[49m\u001b[38;5;241;43m.\u001b[39;49m\u001b[43mget\u001b[49m\u001b[43m(\u001b[49m\u001b[38;5;124;43m\"\u001b[39;49m\u001b[38;5;124;43mmemory_map\u001b[39;49m\u001b[38;5;124;43m\"\u001b[39;49m\u001b[43m,\u001b[49m\u001b[43m \u001b[49m\u001b[38;5;28;43;01mFalse\u001b[39;49;00m\u001b[43m)\u001b[49m\u001b[43m,\u001b[49m\n\u001b[0;32m   1223\u001b[0m \u001b[43m    \u001b[49m\u001b[43mis_text\u001b[49m\u001b[38;5;241;43m=\u001b[39;49m\u001b[43mis_text\u001b[49m\u001b[43m,\u001b[49m\n\u001b[0;32m   1224\u001b[0m \u001b[43m    \u001b[49m\u001b[43merrors\u001b[49m\u001b[38;5;241;43m=\u001b[39;49m\u001b[38;5;28;43mself\u001b[39;49m\u001b[38;5;241;43m.\u001b[39;49m\u001b[43moptions\u001b[49m\u001b[38;5;241;43m.\u001b[39;49m\u001b[43mget\u001b[49m\u001b[43m(\u001b[49m\u001b[38;5;124;43m\"\u001b[39;49m\u001b[38;5;124;43mencoding_errors\u001b[39;49m\u001b[38;5;124;43m\"\u001b[39;49m\u001b[43m,\u001b[49m\u001b[43m \u001b[49m\u001b[38;5;124;43m\"\u001b[39;49m\u001b[38;5;124;43mstrict\u001b[39;49m\u001b[38;5;124;43m\"\u001b[39;49m\u001b[43m)\u001b[49m\u001b[43m,\u001b[49m\n\u001b[0;32m   1225\u001b[0m \u001b[43m    \u001b[49m\u001b[43mstorage_options\u001b[49m\u001b[38;5;241;43m=\u001b[39;49m\u001b[38;5;28;43mself\u001b[39;49m\u001b[38;5;241;43m.\u001b[39;49m\u001b[43moptions\u001b[49m\u001b[38;5;241;43m.\u001b[39;49m\u001b[43mget\u001b[49m\u001b[43m(\u001b[49m\u001b[38;5;124;43m\"\u001b[39;49m\u001b[38;5;124;43mstorage_options\u001b[39;49m\u001b[38;5;124;43m\"\u001b[39;49m\u001b[43m,\u001b[49m\u001b[43m \u001b[49m\u001b[38;5;28;43;01mNone\u001b[39;49;00m\u001b[43m)\u001b[49m\u001b[43m,\u001b[49m\n\u001b[0;32m   1226\u001b[0m \u001b[43m\u001b[49m\u001b[43m)\u001b[49m\n\u001b[0;32m   1227\u001b[0m \u001b[38;5;28;01massert\u001b[39;00m \u001b[38;5;28mself\u001b[39m\u001b[38;5;241m.\u001b[39mhandles \u001b[38;5;129;01mis\u001b[39;00m \u001b[38;5;129;01mnot\u001b[39;00m \u001b[38;5;28;01mNone\u001b[39;00m\n\u001b[0;32m   1228\u001b[0m f \u001b[38;5;241m=\u001b[39m \u001b[38;5;28mself\u001b[39m\u001b[38;5;241m.\u001b[39mhandles\u001b[38;5;241m.\u001b[39mhandle\n",
      "File \u001b[1;32m~\\anaconda3\\lib\\site-packages\\pandas\\io\\common.py:789\u001b[0m, in \u001b[0;36mget_handle\u001b[1;34m(path_or_buf, mode, encoding, compression, memory_map, is_text, errors, storage_options)\u001b[0m\n\u001b[0;32m    784\u001b[0m \u001b[38;5;28;01melif\u001b[39;00m \u001b[38;5;28misinstance\u001b[39m(handle, \u001b[38;5;28mstr\u001b[39m):\n\u001b[0;32m    785\u001b[0m     \u001b[38;5;66;03m# Check whether the filename is to be opened in binary mode.\u001b[39;00m\n\u001b[0;32m    786\u001b[0m     \u001b[38;5;66;03m# Binary mode does not support 'encoding' and 'newline'.\u001b[39;00m\n\u001b[0;32m    787\u001b[0m     \u001b[38;5;28;01mif\u001b[39;00m ioargs\u001b[38;5;241m.\u001b[39mencoding \u001b[38;5;129;01mand\u001b[39;00m \u001b[38;5;124m\"\u001b[39m\u001b[38;5;124mb\u001b[39m\u001b[38;5;124m\"\u001b[39m \u001b[38;5;129;01mnot\u001b[39;00m \u001b[38;5;129;01min\u001b[39;00m ioargs\u001b[38;5;241m.\u001b[39mmode:\n\u001b[0;32m    788\u001b[0m         \u001b[38;5;66;03m# Encoding\u001b[39;00m\n\u001b[1;32m--> 789\u001b[0m         handle \u001b[38;5;241m=\u001b[39m \u001b[38;5;28;43mopen\u001b[39;49m\u001b[43m(\u001b[49m\n\u001b[0;32m    790\u001b[0m \u001b[43m            \u001b[49m\u001b[43mhandle\u001b[49m\u001b[43m,\u001b[49m\n\u001b[0;32m    791\u001b[0m \u001b[43m            \u001b[49m\u001b[43mioargs\u001b[49m\u001b[38;5;241;43m.\u001b[39;49m\u001b[43mmode\u001b[49m\u001b[43m,\u001b[49m\n\u001b[0;32m    792\u001b[0m \u001b[43m            \u001b[49m\u001b[43mencoding\u001b[49m\u001b[38;5;241;43m=\u001b[39;49m\u001b[43mioargs\u001b[49m\u001b[38;5;241;43m.\u001b[39;49m\u001b[43mencoding\u001b[49m\u001b[43m,\u001b[49m\n\u001b[0;32m    793\u001b[0m \u001b[43m            \u001b[49m\u001b[43merrors\u001b[49m\u001b[38;5;241;43m=\u001b[39;49m\u001b[43merrors\u001b[49m\u001b[43m,\u001b[49m\n\u001b[0;32m    794\u001b[0m \u001b[43m            \u001b[49m\u001b[43mnewline\u001b[49m\u001b[38;5;241;43m=\u001b[39;49m\u001b[38;5;124;43m\"\u001b[39;49m\u001b[38;5;124;43m\"\u001b[39;49m\u001b[43m,\u001b[49m\n\u001b[0;32m    795\u001b[0m \u001b[43m        \u001b[49m\u001b[43m)\u001b[49m\n\u001b[0;32m    796\u001b[0m     \u001b[38;5;28;01melse\u001b[39;00m:\n\u001b[0;32m    797\u001b[0m         \u001b[38;5;66;03m# Binary mode\u001b[39;00m\n\u001b[0;32m    798\u001b[0m         handle \u001b[38;5;241m=\u001b[39m \u001b[38;5;28mopen\u001b[39m(handle, ioargs\u001b[38;5;241m.\u001b[39mmode)\n",
      "\u001b[1;31mFileNotFoundError\u001b[0m: [Errno 2] No such file or directory: 'autos_dataset.csv'"
     ]
    }
   ],
   "source": [
    "df = pd.read_csv(\"autos_dataset.csv\")\n",
    "df.head()"
   ]
  },
  {
   "cell_type": "code",
   "execution_count": null,
   "id": "b724670b",
   "metadata": {},
   "outputs": [],
   "source": [
    "df.info()"
   ]
  },
  {
   "cell_type": "code",
   "execution_count": null,
   "id": "0f77f28f",
   "metadata": {},
   "outputs": [],
   "source": [
    "df.boxplot()"
   ]
  },
  {
   "cell_type": "markdown",
   "id": "f19cb78e",
   "metadata": {},
   "source": [
    "## 3)EDA"
   ]
  },
  {
   "cell_type": "code",
   "execution_count": null,
   "id": "08269b51",
   "metadata": {},
   "outputs": [],
   "source": [
    "# df[\"normalized-losses\"].value_counts().sort_values()"
   ]
  },
  {
   "cell_type": "code",
   "execution_count": null,
   "id": "8ef1a417",
   "metadata": {},
   "outputs": [],
   "source": [
    "df[\"normalized-losses\"].replace({\"?\":np.nan},inplace=True)"
   ]
  },
  {
   "cell_type": "code",
   "execution_count": null,
   "id": "1bcd6763",
   "metadata": {},
   "outputs": [],
   "source": [
    "# df[\"bore\"].value_counts().sort_values()"
   ]
  },
  {
   "cell_type": "code",
   "execution_count": null,
   "id": "3249d031",
   "metadata": {},
   "outputs": [],
   "source": [
    "df[\"bore\"].replace({\"?\":np.nan},inplace=True)"
   ]
  },
  {
   "cell_type": "code",
   "execution_count": null,
   "id": "97838330",
   "metadata": {},
   "outputs": [],
   "source": [
    "# to replace all \"?\" in df\n",
    "df.replace({\"?\":np.nan},inplace=True)"
   ]
  },
  {
   "cell_type": "code",
   "execution_count": null,
   "id": "03b2b780",
   "metadata": {},
   "outputs": [],
   "source": [
    "df.head()"
   ]
  },
  {
   "cell_type": "code",
   "execution_count": null,
   "id": "c2f430e4",
   "metadata": {},
   "outputs": [],
   "source": [
    "df.describe()"
   ]
  },
  {
   "cell_type": "code",
   "execution_count": null,
   "id": "b12101c2",
   "metadata": {},
   "outputs": [],
   "source": []
  },
  {
   "cell_type": "code",
   "execution_count": null,
   "id": "261c1eb8",
   "metadata": {},
   "outputs": [],
   "source": [
    "df[df[\"engine-size\"]==326][\"make\"].value_counts()"
   ]
  },
  {
   "cell_type": "code",
   "execution_count": null,
   "id": "fc63dc7a",
   "metadata": {},
   "outputs": [],
   "source": [
    "df[df[\"compression-ratio\"]==23][\"make\"].value_counts()"
   ]
  },
  {
   "cell_type": "code",
   "execution_count": null,
   "id": "ce18dffa",
   "metadata": {},
   "outputs": [],
   "source": [
    "df[[\"engine-size\"]].boxplot()"
   ]
  },
  {
   "cell_type": "code",
   "execution_count": null,
   "id": "fd446f87",
   "metadata": {},
   "outputs": [],
   "source": [
    "df[[\"compression-ratio\"]].boxplot()"
   ]
  },
  {
   "cell_type": "markdown",
   "id": "774e61a9",
   "metadata": {},
   "source": [
    "## 4)Feature Engineering"
   ]
  },
  {
   "cell_type": "markdown",
   "id": "0c5e8e1c",
   "metadata": {},
   "source": [
    "### outliers "
   ]
  },
  {
   "cell_type": "code",
   "execution_count": null,
   "id": "825bfe36",
   "metadata": {},
   "outputs": [],
   "source": [
    "# df[\"engine-size\"].median()\n",
    "# df[\"compression-ratio\"].median()"
   ]
  },
  {
   "cell_type": "code",
   "execution_count": null,
   "id": "c65cfcea",
   "metadata": {},
   "outputs": [],
   "source": [
    "q1 = df[\"engine-size\"].quantile(0.25)\n",
    "q2 = df[\"engine-size\"].quantile(0.75)\n",
    "iqr = q2 - q1\n",
    "\n",
    "lower_q = iqr - 1.5*q1\n",
    "upper_q = iqr + 1.5*q2\n"
   ]
  },
  {
   "cell_type": "code",
   "execution_count": null,
   "id": "0cc5cc23",
   "metadata": {},
   "outputs": [],
   "source": [
    "# calculate engine size median\n",
    "\n",
    "Engine_size_median = df[(df[\"engine-size\"]<upper_q) | (df[\"engine-size\"]>lower_q)][\"engine-size\"].median()\n",
    "Engine_size_median  "
   ]
  },
  {
   "cell_type": "code",
   "execution_count": null,
   "id": "e3f8aed1",
   "metadata": {},
   "outputs": [],
   "source": [
    "# apply engine size median to all outlier\n",
    "\n",
    "df.loc[(df[\"engine-size\"]>upper_q) | (df[\"engine-size\"]<lower_q),\"engine-size\"] = Engine_size_median"
   ]
  },
  {
   "cell_type": "code",
   "execution_count": null,
   "id": "6ac5bb3c",
   "metadata": {},
   "outputs": [],
   "source": [
    "q1 = df[\"compression-ratio\"].quantile(0.25)\n",
    "q2 = df[\"compression-ratio\"].quantile(0.75)\n",
    "iqr = q2 - q1\n",
    "\n",
    "lower_q = iqr - 1.5*q1\n",
    "upper_q = iqr + 1.5*q2"
   ]
  },
  {
   "cell_type": "code",
   "execution_count": null,
   "id": "5ce15733",
   "metadata": {},
   "outputs": [],
   "source": [
    "#calculate compression_ratio_median\n",
    "\n",
    "compression_ratio_median = df[(df[\"compression-ratio\"]<upper_q) | (df[\"compression-ratio\"]>lower_q)][\"compression-ratio\"].median()\n",
    "compression_ratio_median"
   ]
  },
  {
   "cell_type": "code",
   "execution_count": null,
   "id": "e6e0feb9",
   "metadata": {},
   "outputs": [],
   "source": [
    "# apply compression_ratio_median to all outlier\n",
    "\n",
    "df.loc[(df[\"compression-ratio\"]>upper_q) | (df[\"compression-ratio\"]<lower_q),\"compression-ratio\"]= compression_ratio_median"
   ]
  },
  {
   "cell_type": "code",
   "execution_count": null,
   "id": "78f7dfef",
   "metadata": {},
   "outputs": [],
   "source": [
    "# df.describe()"
   ]
  },
  {
   "cell_type": "code",
   "execution_count": null,
   "id": "c31da586",
   "metadata": {},
   "outputs": [],
   "source": [
    "df.info()"
   ]
  },
  {
   "cell_type": "markdown",
   "id": "b57e2f64",
   "metadata": {},
   "source": [
    "#### filling missing file"
   ]
  },
  {
   "cell_type": "code",
   "execution_count": null,
   "id": "5f964389",
   "metadata": {},
   "outputs": [],
   "source": [
    "df[\"normalized-losses\"] = df[\"normalized-losses\"].fillna(df[\"normalized-losses\"].median()).astype(int)\n",
    "df[\"num-of-doors\"]      = df[\"num-of-doors\"].fillna(df[\"num-of-doors\"].mode()[0])\n",
    "df[\"bore\" ]             = df[\"bore\"].fillna(df[\"bore\"].median()).astype(float)\n",
    "df[\"stroke\"]            = df[\"stroke\"].fillna(df[\"stroke\"].median()).astype(float)\n",
    "df[\"horsepower\"]        = df[\"horsepower\"].fillna(df[\"horsepower\"].median()).astype(int)\n",
    "df[\"peak-rpm\"]          = df[\"peak-rpm\"].fillna(df[\"peak-rpm\"].median()).astype(int)\n"
   ]
  },
  {
   "cell_type": "markdown",
   "id": "23ed90af",
   "metadata": {},
   "source": [
    "#### for target column price >>>>> as we can not put values randomly for price it is depend on company make"
   ]
  },
  {
   "cell_type": "code",
   "execution_count": null,
   "id": "e0606789",
   "metadata": {},
   "outputs": [],
   "source": [
    "# df.info()"
   ]
  },
  {
   "cell_type": "code",
   "execution_count": null,
   "id": "12f0596b",
   "metadata": {
    "scrolled": true
   },
   "outputs": [],
   "source": [
    "df[df[\"price\"].isna()]"
   ]
  },
  {
   "cell_type": "code",
   "execution_count": null,
   "id": "6e34001d",
   "metadata": {},
   "outputs": [],
   "source": [
    "cond_list=[(df[\"price\"].isna()) & (df[\"make\"]==\"audi\"),\n",
    "             (df[\"price\"].isna()) & (df[\"make\"]==\"isuzu\"),\n",
    "             (df[\"price\"].isna()) & (df[\"make\"]==\"porsche\")]"
   ]
  },
  {
   "cell_type": "code",
   "execution_count": null,
   "id": "28723c0e",
   "metadata": {},
   "outputs": [],
   "source": [
    "choise_list  =[df.loc[(df[\"make\"]==\"audi\")][\"price\"].sort_values(ascending=False).iloc[0],\n",
    "            df.loc[(df[\"make\"]==\"isuzu\")][\"price\"].sort_values(ascending=False).iloc[0],\n",
    "            df.loc[(df[\"make\"]==\"porsche\")][\"price\"].sort_values(ascending=False).iloc[0]]"
   ]
  },
  {
   "cell_type": "code",
   "execution_count": null,
   "id": "1100f026",
   "metadata": {},
   "outputs": [],
   "source": [
    "# df.loc[(df[\"make\"]==\"porsche\")][\"price\"].sort_values(ascending=False).iloc[0]"
   ]
  },
  {
   "cell_type": "code",
   "execution_count": null,
   "id": "2c469d75",
   "metadata": {},
   "outputs": [],
   "source": [
    "df[\"price\"]=np.select(cond_list,choise_list,default=df[\"price\"]).astype(int)"
   ]
  },
  {
   "cell_type": "code",
   "execution_count": null,
   "id": "4127e449",
   "metadata": {},
   "outputs": [],
   "source": [
    "df.info()"
   ]
  },
  {
   "cell_type": "code",
   "execution_count": null,
   "id": "2b771a20",
   "metadata": {},
   "outputs": [],
   "source": [
    "df1=df.copy()"
   ]
  },
  {
   "cell_type": "code",
   "execution_count": null,
   "id": "a1cb1f6a",
   "metadata": {},
   "outputs": [],
   "source": [
    "df1.head(1)"
   ]
  },
  {
   "cell_type": "markdown",
   "id": "b2fdc891",
   "metadata": {},
   "source": [
    "### Encoding"
   ]
  },
  {
   "cell_type": "code",
   "execution_count": null,
   "id": "f1c1f103",
   "metadata": {},
   "outputs": [],
   "source": [
    "df[\"engine-location\"].unique()  #to check values inside"
   ]
  },
  {
   "cell_type": "code",
   "execution_count": null,
   "id": "cbf93b4e",
   "metadata": {},
   "outputs": [],
   "source": [
    "df[\"aspiration\"].unique()       #to check values inside"
   ]
  },
  {
   "cell_type": "code",
   "execution_count": null,
   "id": "b52b268c",
   "metadata": {},
   "outputs": [],
   "source": [
    "df[\"num-of-doors\"].unique()     #to check values inside"
   ]
  },
  {
   "cell_type": "code",
   "execution_count": null,
   "id": "0eb28f0c",
   "metadata": {},
   "outputs": [],
   "source": [
    "df[\"fuel-type\"].unique()        #to check values inside"
   ]
  },
  {
   "cell_type": "code",
   "execution_count": null,
   "id": "5f29bec9",
   "metadata": {},
   "outputs": [],
   "source": [
    "# by unsing replce\n",
    "\n",
    "df[\"engine-location\"].replace({'front':0, 'rear':1},inplace=True)\n",
    "df[\"aspiration\"].replace({'std':0, 'turbo':1},inplace=True)\n",
    "df[\"num-of-doors\"].replace({'two':2, 'four':4},inplace=True)\n",
    "df[\"fuel-type\"].replace({'gas':0, 'diesel':1},inplace=True)"
   ]
  },
  {
   "cell_type": "markdown",
   "id": "81ed5d48",
   "metadata": {},
   "source": [
    "#### Ordinal  Encoder"
   ]
  },
  {
   "cell_type": "code",
   "execution_count": null,
   "id": "fb8c0de8",
   "metadata": {},
   "outputs": [],
   "source": [
    "df[\"drive-wheels\"].unique()            #to check values inside"
   ]
  },
  {
   "cell_type": "code",
   "execution_count": null,
   "id": "7636e403",
   "metadata": {},
   "outputs": [],
   "source": [
    "df[\"num-of-cylinders\"].unique()        #to check values inside"
   ]
  },
  {
   "cell_type": "code",
   "execution_count": null,
   "id": "12d0f372",
   "metadata": {},
   "outputs": [],
   "source": [
    "OE = OrdinalEncoder(categories=[['rwd', 'fwd', '4wd']])\n",
    "df[\"drive-wheels\"] = OE.fit_transform(df[[\"drive-wheels\"]])"
   ]
  },
  {
   "cell_type": "code",
   "execution_count": null,
   "id": "5b18f87d",
   "metadata": {},
   "outputs": [],
   "source": [
    "OE = OrdinalEncoder(categories=[['two', 'three','four','five','six','eight','twelve']])\n",
    "df_oe2=df[\"num-of-cylinders\"]= OE.fit_transform(df[[\"num-of-cylinders\"]])\n"
   ]
  },
  {
   "cell_type": "markdown",
   "id": "04ce1572",
   "metadata": {},
   "source": [
    "### dummies"
   ]
  },
  {
   "cell_type": "code",
   "execution_count": null,
   "id": "6f7274a8",
   "metadata": {},
   "outputs": [],
   "source": [
    "df[\"body-style\"].unique()"
   ]
  },
  {
   "cell_type": "code",
   "execution_count": null,
   "id": "4b4df378",
   "metadata": {},
   "outputs": [],
   "source": [
    "df[\"make\"].unique()"
   ]
  },
  {
   "cell_type": "code",
   "execution_count": null,
   "id": "20fffff9",
   "metadata": {},
   "outputs": [],
   "source": [
    "df[\"engine-type\"].unique()"
   ]
  },
  {
   "cell_type": "code",
   "execution_count": null,
   "id": "ec66e6d6",
   "metadata": {},
   "outputs": [],
   "source": [
    "df[\"fuel-system\"].unique()"
   ]
  },
  {
   "cell_type": "code",
   "execution_count": null,
   "id": "bbf9ce8d",
   "metadata": {},
   "outputs": [],
   "source": [
    "df = pd.get_dummies(df,columns=[\"fuel-system\",\"engine-type\",\"make\",\"body-style\"])"
   ]
  },
  {
   "cell_type": "code",
   "execution_count": null,
   "id": "f2f7fa83",
   "metadata": {},
   "outputs": [],
   "source": [
    "df.head(1)"
   ]
  },
  {
   "cell_type": "markdown",
   "id": "ce1cf417",
   "metadata": {},
   "source": [
    "## 5) feture selection"
   ]
  },
  {
   "cell_type": "code",
   "execution_count": null,
   "id": "978be4f0",
   "metadata": {},
   "outputs": [],
   "source": [
    "\n",
    "# df.drop(\"price\",axis=1,inplace=True)\n",
    "# df.head(1)"
   ]
  },
  {
   "cell_type": "code",
   "execution_count": null,
   "id": "1a839481",
   "metadata": {},
   "outputs": [],
   "source": [
    "df.corr()"
   ]
  },
  {
   "cell_type": "code",
   "execution_count": null,
   "id": "7896ab8d",
   "metadata": {
    "scrolled": true
   },
   "outputs": [],
   "source": [
    "# sns.heatmap(df1.corr(),annot=True)"
   ]
  },
  {
   "cell_type": "code",
   "execution_count": null,
   "id": "a3ac15b9",
   "metadata": {},
   "outputs": [],
   "source": [
    "#sample calculation for first column \n",
    "vif = variance_inflation_factor(df.to_numpy(),0)\n",
    "vif"
   ]
  },
  {
   "cell_type": "code",
   "execution_count": null,
   "id": "0cc8fe13",
   "metadata": {},
   "outputs": [],
   "source": [
    "\n",
    "# vif_list=[]                                                # to create VIF value list\n",
    "\n",
    "# for i in range(df.shape[1]):\n",
    "#     vif = variance_inflation_factor(df.to_numpy(),i)\n",
    "#     vif_list.append(vif)\n",
    "# vif_list"
   ]
  },
  {
   "cell_type": "code",
   "execution_count": null,
   "id": "50b25695",
   "metadata": {},
   "outputs": [],
   "source": [
    "# df_vif = pd.DataFrame()                                     # to create VIF list into data frame\n",
    "# df_vif[\"features\"] = df_ind.columns\n",
    "# df_vif[\"VIF\"]      = vif_list\n",
    "# df_vif"
   ]
  },
  {
   "cell_type": "code",
   "execution_count": null,
   "id": "d387d181",
   "metadata": {},
   "outputs": [],
   "source": [
    "# df_vif[\"VIF\"].sort_values().plot(kind=\"barh\")           # VIF value bar chart"
   ]
  },
  {
   "cell_type": "code",
   "execution_count": null,
   "id": "a600d322",
   "metadata": {},
   "outputs": [],
   "source": [
    "df.head(1)"
   ]
  },
  {
   "cell_type": "markdown",
   "id": "7d96fab1",
   "metadata": {},
   "source": [
    "## 6) evaluation"
   ]
  },
  {
   "cell_type": "code",
   "execution_count": null,
   "id": "36532b72",
   "metadata": {},
   "outputs": [],
   "source": [
    "x = df.drop(\"price\",axis=1)\n",
    "y = df[\"price\"]\n",
    "\n",
    "x_train,x_test,y_train,y_test = train_test_split(x,y, test_size= 0.2, random_state=42)"
   ]
  },
  {
   "cell_type": "markdown",
   "id": "211b76fd",
   "metadata": {},
   "source": [
    "### Training data"
   ]
  },
  {
   "cell_type": "code",
   "execution_count": null,
   "id": "c9dde38d",
   "metadata": {},
   "outputs": [],
   "source": [
    "lr_model = LinearRegression()\n",
    "lr_model.fit(x_train,y_train)\n",
    "y_pred_train   = lr_model.predict(x_train)"
   ]
  },
  {
   "cell_type": "code",
   "execution_count": null,
   "id": "4734d9ce",
   "metadata": {},
   "outputs": [],
   "source": [
    "MSE = mean_squared_error(y_train, y_pred_train)\n",
    "MAE = mean_absolute_error(y_train, y_pred_train)\n",
    "# r2_score = r2_score(y_train, y_pred1)\n",
    "r2_score = lr_model.score(x_train,y_train)\n",
    "# ad_r2_score = 1 - (((1-r2_score)*(x_train.shape[0]-1))/(x_train.shape[0]-x_train.shape[1]-1))"
   ]
  },
  {
   "cell_type": "code",
   "execution_count": null,
   "id": "83f7a707",
   "metadata": {},
   "outputs": [],
   "source": [
    "print(f\"MES={MSE}\\nMAE={MAE}\\nr2 score={r2_score}\\nadjusted r2 score={ad_r2_score}\")"
   ]
  },
  {
   "cell_type": "markdown",
   "id": "bc412d7f",
   "metadata": {},
   "source": [
    "### Testing data"
   ]
  },
  {
   "cell_type": "code",
   "execution_count": null,
   "id": "e91f1ae8",
   "metadata": {},
   "outputs": [],
   "source": [
    "lr_model1 = LinearRegression()\n",
    "lr_model1.fit(x_test,y_test)\n",
    "y_pred_test   = lr_model1.predict(x_test)"
   ]
  },
  {
   "cell_type": "code",
   "execution_count": null,
   "id": "c9e4365b",
   "metadata": {
    "scrolled": true
   },
   "outputs": [],
   "source": [
    "MSE1 = mean_squared_error(y_test, y_pred_test)\n",
    "MAE1 = mean_absolute_error(y_test, y_pred_test)\n",
    "# r2_score1 = r2_score(y_test, y_pred)\n",
    "r2_score1 = lr_model1.score(x_test,y_test)\n",
    "# ad_r2_score1 = 1 - (((1-r2_score)*(x_test.shape[0]-1))/(x_test.shape[0]-x_test.shape[1]-1))"
   ]
  },
  {
   "cell_type": "code",
   "execution_count": null,
   "id": "f30ca9ef",
   "metadata": {},
   "outputs": [],
   "source": [
    "print(f\"MES={MSE1}\\nMAE={MAE1}\\nr2 score={r2_score1}\\nadjusted r2 score={ad_r2_score1}\")"
   ]
  },
  {
   "cell_type": "markdown",
   "id": "2a28700a",
   "metadata": {},
   "source": [
    "### 7) user input"
   ]
  },
  {
   "cell_type": "markdown",
   "id": "3009b1e0",
   "metadata": {},
   "source": [
    "#### here user input is df_org()"
   ]
  },
  {
   "cell_type": "code",
   "execution_count": null,
   "id": "9ac36fbf",
   "metadata": {},
   "outputs": [],
   "source": [
    "# x['drive-wheels'].value_counts().to_dict()"
   ]
  },
  {
   "cell_type": "code",
   "execution_count": null,
   "id": "64a705ee",
   "metadata": {},
   "outputs": [],
   "source": [
    "# df_org['drive-wheels'].value_counts().to_dict()"
   ]
  },
  {
   "cell_type": "code",
   "execution_count": null,
   "id": "ddddd037",
   "metadata": {},
   "outputs": [],
   "source": [
    "drive_wheels_value     = {'fwd': 1.0, 'rwd': 0.0, '4wd': 2.0}"
   ]
  },
  {
   "cell_type": "code",
   "execution_count": null,
   "id": "d3807760",
   "metadata": {},
   "outputs": [],
   "source": [
    "# x['num-of-cylinders'].value_counts().to_dict()"
   ]
  },
  {
   "cell_type": "code",
   "execution_count": null,
   "id": "19240bab",
   "metadata": {},
   "outputs": [],
   "source": [
    "# df_org['num-of-cylinders'].value_counts().to_dict()"
   ]
  },
  {
   "cell_type": "code",
   "execution_count": null,
   "id": "5824bf2e",
   "metadata": {},
   "outputs": [],
   "source": [
    "num_of_cylinders_value ={'four': 2.0,'six': 4.0,'five': 3.0,'eight': 5.5,'two': 0.0,'three': 1.0,'twelve': 6.0}"
   ]
  },
  {
   "cell_type": "code",
   "execution_count": null,
   "id": "4a56cadb",
   "metadata": {},
   "outputs": [],
   "source": [
    "engine_location_value={'front':0, 'rear':1}\n",
    "aspiration_value     ={'std':0, 'turbo':1}\n",
    "num_of_doors_value   ={'two':2, 'four':4}\n",
    "fuel_type_value     ={'gas':0, 'diesel':1}"
   ]
  },
  {
   "cell_type": "code",
   "execution_count": null,
   "id": "e44ff7c4",
   "metadata": {},
   "outputs": [],
   "source": [
    "encoded_columns = {\"engine_location_value\":engine_location_value,\n",
    "                  \"aspiration_value\" :aspiration_value,\n",
    "                  \"num_of_doors_value\":num_of_doors_value,\n",
    "                   \"fuel_type_value\":fuel_type_value,\n",
    "                   \"drive_wheels_value\":drive_wheels_value,\n",
    "                   \"num_of_cylinders_value\":num_of_cylinders_value,\n",
    "                  \"columns\": list(x.columns)}\n",
    "encoded_columns"
   ]
  },
  {
   "cell_type": "code",
   "execution_count": null,
   "id": "ecde7f67",
   "metadata": {},
   "outputs": [],
   "source": [
    "import json\n",
    "with open(\"encoded_columns.json\",\"w\")as f:\n",
    "    json.dump(encoded_columns,f)"
   ]
  },
  {
   "cell_type": "code",
   "execution_count": null,
   "id": "8f30e67f",
   "metadata": {},
   "outputs": [],
   "source": [
    "symboling                    = 3\n",
    "normalized_losses            = 115\n",
    "make                         = \"audi\"        # dummy\n",
    "fuel_type                    = \"gas\"         #replace\n",
    "aspiration                   = \"std\"         #replace\n",
    "num_of_doors                 =  \"two\"        #replace\n",
    "body_style                   = \"convertible\" # dummy\n",
    "drive_wheels                 = \"rwd\"         #onehot encoder\n",
    "engine_location              =\"rear\"         #replace\n",
    "wheel_base                   = 88.6\n",
    "length                       = 168.8\n",
    "width                        = 64.1\n",
    "height                       = 48.8\n",
    "curb_weight                  = 2548\n",
    "engine_type                  = \"dohc\"        # dummy\n",
    "num_of_cylinders             = \"four\"        #onehot encoder\n",
    "engine_size                  = 14\n",
    "fuel_system                  = \"mpfi\"        # dummy\n",
    "bore                         = 3.47\n",
    "stroke                       = 2.68\n",
    "compression_ratio            = 9.0\n",
    "horsepower                   = 111\n",
    "peak_rpm                     = 5000\n",
    "city_mpg                     = 21\n",
    "highway_mpg                  = 27    \n",
    "# price                      16500"
   ]
  },
  {
   "cell_type": "code",
   "execution_count": null,
   "id": "67b9737d",
   "metadata": {},
   "outputs": [],
   "source": [
    "# note - this columns should be below above columns which has assign input values\n",
    "columns_1         =x.columns\n",
    "engine_location_1 =engine_location_value[engine_location]\n",
    "aspiration_1      =aspiration_value[aspiration]\n",
    "num_of_doors_1   =num_of_doors_value[num_of_doors]\n",
    "fuel_type_1       =fuel_type_value[fuel_type]       # ex...>>[fuel_type] input may be \"gas\" or \"disel\"\n",
    "drive_wheels_1    =drive_wheels_value[drive_wheels]\n",
    "num_of_cylinders_1=num_of_cylinders_value[num_of_cylinders]\n"
   ]
  },
  {
   "cell_type": "code",
   "execution_count": null,
   "id": "994f1e2e",
   "metadata": {},
   "outputs": [],
   "source": [
    "columns_1"
   ]
  },
  {
   "cell_type": "code",
   "execution_count": null,
   "id": "af91e7fd",
   "metadata": {},
   "outputs": [],
   "source": [
    "array = np.zeros(x.shape[1])\n",
    "array[0]=symboling\n",
    "array[1]=normalized_losses \n",
    "array[2]=fuel_type_1\n",
    "array[3]=aspiration_1\n",
    "array[4]=num_of_doors_1 \n",
    "array[5]=drive_wheels_1 \n",
    "array[6]=engine_location_1 \n",
    "array[7]=wheel_base\n",
    "array[8]=length \n",
    "array[9]=width \n",
    "array[10]=height \n",
    "array[11]=curb_weight \n",
    "array[12]=num_of_cylinders_1\n",
    "array[13]=engine_size\n",
    "array[14]=bore\n",
    "array[15]=stroke \n",
    "array[16]=compression_ratio \n",
    "array[17]=horsepower\n",
    "array[18]=peak_rpm\n",
    "array[19]=city_mpg \n",
    "array[20]=highway_mpg \n"
   ]
  },
  {
   "cell_type": "code",
   "execution_count": null,
   "id": "3e0d3149",
   "metadata": {},
   "outputs": [],
   "source": [
    "make_x = \"make_\" + make    # user input\n",
    "make_index= np.where(columns_1 == make_x)[0][0]\n",
    "array[make_index] = 1\n"
   ]
  },
  {
   "cell_type": "code",
   "execution_count": null,
   "id": "35abf38a",
   "metadata": {},
   "outputs": [],
   "source": [
    "body_style_x = \"body-style_\" + body_style      #user input\n",
    "body_style_index = np.where(columns_1 == body_style_x )[0][0]\n",
    "array[body_style_index] =1"
   ]
  },
  {
   "cell_type": "code",
   "execution_count": null,
   "id": "66aa3439",
   "metadata": {},
   "outputs": [],
   "source": [
    "engine_type_x = \"engine-type_\" + engine_type      #user input\n",
    "engine_type_index = np.where(columns_1 == engine_type_x )[0][0]\n",
    "array[engine_type_index] =1"
   ]
  },
  {
   "cell_type": "code",
   "execution_count": null,
   "id": "ae614758",
   "metadata": {},
   "outputs": [],
   "source": [
    "fuel_system_x = \"fuel-system_\" + fuel_system  #user input\n",
    "fuel_system_index = np.where(columns_1 == fuel_system_x )[0][0]\n",
    "array[fuel_system_index] =1"
   ]
  },
  {
   "cell_type": "code",
   "execution_count": null,
   "id": "8c82079f",
   "metadata": {},
   "outputs": [],
   "source": []
  },
  {
   "cell_type": "code",
   "execution_count": null,
   "id": "d53da49a",
   "metadata": {},
   "outputs": [],
   "source": [
    "columns_1"
   ]
  },
  {
   "cell_type": "code",
   "execution_count": null,
   "id": "c38d77c2",
   "metadata": {},
   "outputs": [],
   "source": [
    "lr_model.predict([array])[0]"
   ]
  },
  {
   "cell_type": "code",
   "execution_count": null,
   "id": "fc141300",
   "metadata": {},
   "outputs": [],
   "source": [
    "# pickle file\n",
    "\n",
    "import pickle\n",
    "with open(\"lr_model.pkl\",\"wb\")as f:\n",
    "    pickle.dump(lr_model,f)\n",
    "    "
   ]
  },
  {
   "cell_type": "code",
   "execution_count": null,
   "id": "1f75e51f",
   "metadata": {},
   "outputs": [],
   "source": []
  },
  {
   "cell_type": "code",
   "execution_count": null,
   "id": "2c7f864a",
   "metadata": {},
   "outputs": [],
   "source": []
  },
  {
   "cell_type": "code",
   "execution_count": null,
   "id": "41d1ed8b",
   "metadata": {},
   "outputs": [],
   "source": []
  },
  {
   "cell_type": "code",
   "execution_count": null,
   "id": "830c580c",
   "metadata": {},
   "outputs": [],
   "source": []
  },
  {
   "cell_type": "code",
   "execution_count": null,
   "id": "ece13836",
   "metadata": {},
   "outputs": [],
   "source": []
  }
 ],
 "metadata": {
  "kernelspec": {
   "display_name": "Python 3 (ipykernel)",
   "language": "python",
   "name": "python3"
  },
  "language_info": {
   "codemirror_mode": {
    "name": "ipython",
    "version": 3
   },
   "file_extension": ".py",
   "mimetype": "text/x-python",
   "name": "python",
   "nbconvert_exporter": "python",
   "pygments_lexer": "ipython3",
   "version": "3.9.12"
  }
 },
 "nbformat": 4,
 "nbformat_minor": 5
}
